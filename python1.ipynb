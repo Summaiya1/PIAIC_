{
 "cells": [
  {
   "cell_type": "markdown",
   "metadata": {},
   "source": [
    "# python First class"
   ]
  },
  {
   "cell_type": "markdown",
   "metadata": {},
   "source": [
    "this is first class"
   ]
  },
  {
   "cell_type": "code",
   "execution_count": 10,
   "metadata": {
    "scrolled": false
   },
   "outputs": [
    {
     "name": "stdout",
     "output_type": "stream",
     "text": [
      "Hello world\n"
     ]
    }
   ],
   "source": [
    "print('Hello world')"
   ]
  },
  {
   "cell_type": "code",
   "execution_count": 15,
   "metadata": {},
   "outputs": [
    {
     "name": "stdout",
     "output_type": "stream",
     "text": [
      "hello@123@45.5\n"
     ]
    }
   ],
   "source": [
    "print(\"hello\",123, 45.5,sep=\"@\")"
   ]
  },
  {
   "cell_type": "code",
   "execution_count": 1,
   "metadata": {},
   "outputs": [
    {
     "name": "stdout",
     "output_type": "stream",
     "text": [
      "sara\n"
     ]
    }
   ],
   "source": [
    "name ='summaiya'  #identifier is the name of variable,variable is valueholder, \n",
    "name = 'sara'     # assignment operator =\n",
    "print(name)"
   ]
  },
  {
   "cell_type": "code",
   "execution_count": 3,
   "metadata": {
    "scrolled": true
   },
   "outputs": [
    {
     "data": {
      "text/plain": [
       "str"
      ]
     },
     "execution_count": 3,
     "metadata": {},
     "output_type": "execute_result"
    }
   ],
   "source": [
    "data_type = '123'\n",
    "type(data_type)"
   ]
  },
  {
   "cell_type": "code",
   "execution_count": 6,
   "metadata": {
    "scrolled": true
   },
   "outputs": [
    {
     "name": "stdout",
     "output_type": "stream",
     "text": [
      "True\n",
      "the a is 12\n"
     ]
    }
   ],
   "source": [
    "d1 = True   #bool data type\n",
    "print(d1)"
   ]
  },
  {
   "cell_type": "code",
   "execution_count": null,
   "metadata": {},
   "outputs": [],
   "source": [
    "# 1aa , a a , $aa   invalid variables\n",
    "# a1a valid  variable\n",
    "# reserve words or keywords can't be used as variables\n",
    "# python is case-sensitive\n",
    "# true = 5 (no error)  but True = 5; (error)"
   ]
  },
  {
   "cell_type": "code",
   "execution_count": 5,
   "metadata": {},
   "outputs": [],
   "source": [
    "_ = 5;\n",
    "true = 5;  # True = 5; error \n",
    "# _ (underscore) can be variable "
   ]
  },
  {
   "cell_type": "code",
   "execution_count": 9,
   "metadata": {},
   "outputs": [
    {
     "name": "stdout",
     "output_type": "stream",
     "text": [
      "0.8\n",
      "0\n"
     ]
    }
   ],
   "source": [
    "# python 's division is by default in float\n",
    "a=4\n",
    "b=5\n",
    "print(a/b)\n",
    " # answer in float\n",
    "print(a//b)  # integer division result will not be round off, decimal part will be eliminated"
   ]
  },
  {
   "cell_type": "code",
   "execution_count": 42,
   "metadata": {},
   "outputs": [
    {
     "data": {
      "text/plain": [
       "15"
      ]
     },
     "execution_count": 42,
     "metadata": {},
     "output_type": "execute_result"
    }
   ],
   "source": [
    "c=12\n",
    "d=3\n",
    "c%d # modulo  operator\n",
    "c+3"
   ]
  },
  {
   "cell_type": "code",
   "execution_count": 32,
   "metadata": {},
   "outputs": [
    {
     "data": {
      "text/plain": [
       "9"
      ]
     },
     "execution_count": 32,
     "metadata": {},
     "output_type": "execute_result"
    }
   ],
   "source": [
    "3**2  # exponent"
   ]
  },
  {
   "cell_type": "code",
   "execution_count": 30,
   "metadata": {},
   "outputs": [
    {
     "data": {
      "text/plain": [
       "True"
      ]
     },
     "execution_count": 30,
     "metadata": {},
     "output_type": "execute_result"
    }
   ],
   "source": [
    "a=12\n",
    "b=10\n",
    "a!=b     \n",
    "# a==b equals"
   ]
  },
  {
   "cell_type": "code",
   "execution_count": 39,
   "metadata": {},
   "outputs": [
    {
     "name": "stdout",
     "output_type": "stream",
     "text": [
      "a b\n"
     ]
    },
    {
     "ename": "TypeError",
     "evalue": "can only concatenate str (not \"int\") to str",
     "output_type": "error",
     "traceback": [
      "\u001b[1;31m---------------------------------------------------------------------------\u001b[0m",
      "\u001b[1;31mTypeError\u001b[0m                                 Traceback (most recent call last)",
      "\u001b[1;32m<ipython-input-39-0feb0c953ac4>\u001b[0m in \u001b[0;36m<module>\u001b[1;34m\u001b[0m\n\u001b[0;32m      4\u001b[0m \u001b[0mprint\u001b[0m\u001b[1;33m(\u001b[0m\u001b[0mx\u001b[0m\u001b[1;33m+\u001b[0m\u001b[1;34m' '\u001b[0m\u001b[1;33m+\u001b[0m\u001b[0my\u001b[0m\u001b[1;33m)\u001b[0m\u001b[1;33m\u001b[0m\u001b[1;33m\u001b[0m\u001b[0m\n\u001b[0;32m      5\u001b[0m \u001b[0mlen\u001b[0m\u001b[1;33m(\u001b[0m\u001b[0mx\u001b[0m\u001b[1;33m+\u001b[0m\u001b[1;34m' '\u001b[0m\u001b[1;33m+\u001b[0m\u001b[0my\u001b[0m\u001b[1;33m)\u001b[0m\u001b[1;33m\u001b[0m\u001b[1;33m\u001b[0m\u001b[0m\n\u001b[1;32m----> 6\u001b[1;33m \u001b[0mprint\u001b[0m\u001b[1;33m(\u001b[0m\u001b[1;34m'abc'\u001b[0m\u001b[1;33m+\u001b[0m \u001b[1;36m30\u001b[0m\u001b[1;33m)\u001b[0m\u001b[1;33m\u001b[0m\u001b[1;33m\u001b[0m\u001b[0m\n\u001b[0m",
      "\u001b[1;31mTypeError\u001b[0m: can only concatenate str (not \"int\") to str"
     ]
    }
   ],
   "source": [
    "# concatenation strings\n",
    "x='a' \n",
    "y='b'\n",
    "print(x+' '+y)\n",
    "len(x+' '+y)\n",
    "print('abc'+ 30) #error 30 is not string"
   ]
  },
  {
   "cell_type": "code",
   "execution_count": 45,
   "metadata": {},
   "outputs": [
    {
     "name": "stdout",
     "output_type": "stream",
     "text": [
      "the number is 10\n"
     ]
    }
   ],
   "source": [
    "a=10\n",
    "print(\"the number is \" + str(a) ) # type casting "
   ]
  },
  {
   "cell_type": "code",
   "execution_count": 49,
   "metadata": {},
   "outputs": [
    {
     "name": "stdout",
     "output_type": "stream",
     "text": [
      "my name is sara and age is 10\n"
     ]
    }
   ],
   "source": [
    "age = 10\n",
    "name = 'sara'\n",
    "print('my name is ' + name + ' and age is ' + str(age))"
   ]
  },
  {
   "cell_type": "code",
   "execution_count": 61,
   "metadata": {},
   "outputs": [
    {
     "name": "stdout",
     "output_type": "stream",
     "text": [
      "my name is sara and my age is 11,\n",
      "my name is sara and my age is 11,\n",
      "my name is 11 and my age is 11,\n"
     ]
    }
   ],
   "source": [
    "name =\"sara\" # placeholders {}  \n",
    "age = 11  \n",
    "print(\"my name is {0} and my age is {1},\".format(name,age)) #without indexing it will also run\n",
    "print(\"my name is {} and my age is {},\".format(name,age))\n",
    "print(\"my name is {1} and my age is {1},\".format(name,age)) #print is function"
   ]
  },
  {
   "cell_type": "code",
   "execution_count": 60,
   "metadata": {},
   "outputs": [
    {
     "name": "stdout",
     "output_type": "stream",
     "text": [
      "my name is sara and my age is 11.\n"
     ]
    }
   ],
   "source": [
    "print(f\"my name is {name} and my age is {age}.\")  # another method of format"
   ]
  },
  {
   "cell_type": "code",
   "execution_count": 1,
   "metadata": {},
   "outputs": [],
   "source": [
    "#if is  statement having some logical condition and gives answer in true or false\n",
    "a=10\n",
    "b=20"
   ]
  },
  {
   "cell_type": "code",
   "execution_count": 2,
   "metadata": {},
   "outputs": [
    {
     "data": {
      "text/plain": [
       "True"
      ]
     },
     "execution_count": 2,
     "metadata": {},
     "output_type": "execute_result"
    }
   ],
   "source": [
    "a<b"
   ]
  },
  {
   "cell_type": "code",
   "execution_count": 7,
   "metadata": {},
   "outputs": [
    {
     "name": "stdout",
     "output_type": "stream",
     "text": [
      "if is false\n"
     ]
    }
   ],
   "source": [
    "if a > b :   # after colon when we press enter , the cursor will be  one tab  intend ,intendation tells block in python not curly brackets \n",
    "    print(\"if is true\")\n",
    "    print(\"if is true\")\n",
    "else:\n",
    "    print(\"if is false\")"
   ]
  },
  {
   "cell_type": "code",
   "execution_count": null,
   "metadata": {},
   "outputs": [],
   "source": [
    "#temp =input()   #user input by default is string "
   ]
  },
  {
   "cell_type": "code",
   "execution_count": 1,
   "metadata": {},
   "outputs": [
    {
     "name": "stdout",
     "output_type": "stream",
     "text": [
      "Enter today's tempertaure : 40\n",
      "'It's hot today\n"
     ]
    }
   ],
   "source": [
    "temp = int(input(\"Enter today's tempertaure : \")) #ypecasting\n",
    "if temp>30:\n",
    "    print(\"'It's hot today\")\n",
    "else :\n",
    "    print(\"Normal Temperature\")\n",
    "    "
   ]
  },
  {
   "cell_type": "code",
   "execution_count": 4,
   "metadata": {},
   "outputs": [
    {
     "name": "stdout",
     "output_type": "stream",
     "text": [
      "do you have CNIC? yes\n",
      "andar chalay jaen\n",
      "is my name in list? yes\n",
      "Please cast your vote\n"
     ]
    }
   ],
   "source": [
    "#if a==b:   #nested if's if one IF fails , the other if's will not execute\n",
    "   # if a>b:\n",
    "       # if a<b:\n",
    "           # if a!=b:\n",
    "cnic = input(\"do you have CNIC? \")  \n",
    "if cnic =='yes':\n",
    "    print(\"andar chalay jaen\")\n",
    "    nameinlist = input(\"is my name in list? \")\n",
    "    if nameinlist =='yes':\n",
    "        print(\"Please cast your vote\")\n",
    "    else:\n",
    "        print(\"You can't cast vote\")\n",
    "else:\n",
    "    print(\"You can't cast vote\")\n",
    " "
   ]
  },
  {
   "cell_type": "code",
   "execution_count": 8,
   "metadata": {},
   "outputs": [
    {
     "name": "stdout",
     "output_type": "stream",
     "text": [
      "Enter your marks : 10\n",
      "You are ungraded and please try again\n"
     ]
    }
   ],
   "source": [
    "# if elif else\n",
    "marks = int(input(\"Enter your marks : \"))\n",
    "grade = \" \"\n",
    "if marks>=90:\n",
    "    grade = \"A*\"\n",
    "    print(f\"your marks are {marks} and your grade is {grade}\") \n",
    "elif marks>=80:\n",
    "    grade = \"A\"\n",
    "    print(f\"your marks are {marks} and your grade is {grade}\") \n",
    "elif marks>=70:\n",
    "    grade = \"B\"\n",
    "    print(f\"your marks are {marks} and your grade is {grade}\") \n",
    "elif marks>=60:\n",
    "    grade = \"C\"\n",
    "    print(f\"your marks are {marks} and your grade is {grade}\") \n",
    "elif marks>=50:\n",
    "    grade = \"D\"\n",
    "    print(f\"your marks are {marks} and your grade is {grade}\") \n",
    "else:\n",
    "    print(\"You are ungraded and please try again\")\n",
    "    "
   ]
  },
  {
   "cell_type": "code",
   "execution_count": 11,
   "metadata": {},
   "outputs": [
    {
     "name": "stdout",
     "output_type": "stream",
     "text": [
      "Do you have cnic? no\n",
      "is my name in list? yes\n",
      "you cannot cast vote\n"
     ]
    }
   ],
   "source": [
    "# and (nested if ,all conditions are true then execute)  or ( elif , if one conditon is true then can execute  )\n",
    "cnic = input(\"Do you have cnic? \")\n",
    "nameinlist = input(\"is my name in list? \")\n",
    "if(cnic == \"yes\") and (nameinlist ==\"yes\"):\n",
    "    print(\"Caste your vote\")\n",
    "else:\n",
    "    print(\"you cannot cast vote\")"
   ]
  },
  {
   "cell_type": "code",
   "execution_count": 12,
   "metadata": {},
   "outputs": [
    {
     "data": {
      "text/plain": [
       "'this is comment'"
      ]
     },
     "execution_count": 12,
     "metadata": {},
     "output_type": "execute_result"
    }
   ],
   "source": [
    " ''''this is comment'''# select line and then press control+ forward + slash, all selected will become comments"
   ]
  },
  {
   "cell_type": "code",
   "execution_count": 5,
   "metadata": {},
   "outputs": [
    {
     "name": "stdout",
     "output_type": "stream",
     "text": [
      "['asad', 'nasir', 'ayesha']\n"
     ]
    },
    {
     "data": {
      "text/plain": [
       "list"
      ]
     },
     "execution_count": 5,
     "metadata": {},
     "output_type": "execute_result"
    }
   ],
   "source": [
    "students = [\"asad\",'nasir',\"ayesha\"]   #list can have many datatypes , no concept of array in python\n",
    "print(students)\n",
    "type(students)   # list is itself is a datatype"
   ]
  },
  {
   "cell_type": "code",
   "execution_count": 15,
   "metadata": {},
   "outputs": [
    {
     "data": {
      "text/plain": [
       "'nasir'"
      ]
     },
     "execution_count": 15,
     "metadata": {},
     "output_type": "execute_result"
    }
   ],
   "source": [
    "students[1]"
   ]
  },
  {
   "cell_type": "code",
   "execution_count": 16,
   "metadata": {},
   "outputs": [
    {
     "data": {
      "text/plain": [
       "'ayesha'"
      ]
     },
     "execution_count": 16,
     "metadata": {},
     "output_type": "execute_result"
    }
   ],
   "source": [
    "students[2]"
   ]
  },
  {
   "cell_type": "code",
   "execution_count": 19,
   "metadata": {},
   "outputs": [
    {
     "data": {
      "text/plain": [
       "['asad', 'nasir', 'ayesha', 'sara']"
      ]
     },
     "execution_count": 19,
     "metadata": {},
     "output_type": "execute_result"
    }
   ],
   "source": [
    "del students[3]  # if you don't know the index of the element , that is to be removed so just use  .index function or use remove\n",
    "students"
   ]
  },
  {
   "cell_type": "code",
   "execution_count": 20,
   "metadata": {},
   "outputs": [
    {
     "data": {
      "text/plain": [
       "['asad', 'nasir', 'komal', 'sara']"
      ]
     },
     "execution_count": 20,
     "metadata": {},
     "output_type": "execute_result"
    }
   ],
   "source": [
    "students[2] = \"komal\"\n",
    "students"
   ]
  },
  {
   "cell_type": "code",
   "execution_count": 20,
   "metadata": {},
   "outputs": [
    {
     "name": "stdout",
     "output_type": "stream",
     "text": [
      "['asad', 'nasir', 'komal', 'sara']\n",
      "['asad', 'nasir', 'kubra', 'komal', 'sara']\n"
     ]
    }
   ],
   "source": [
    "# list can have data of any type ie float , string,int\n",
    "# no need to define length of list\n",
    "students =['asad', 'nasir', 'komal']\n",
    "students.append('sara')  # append(add) always on last   # shifht + tab to see signature within the brackets\n",
    "print(students)\n",
    "students.insert(2,'kubra')\n",
    "print(students)"
   ]
  },
  {
   "cell_type": "code",
   "execution_count": 13,
   "metadata": {},
   "outputs": [
    {
     "data": {
      "text/plain": [
       "['asad', 'nasir', 'ayesha', 'hamdan', 'hamdan', 'sara', 'hamdan']"
      ]
     },
     "execution_count": 13,
     "metadata": {},
     "output_type": "execute_result"
    }
   ],
   "source": [
    "students = ['asad', 'nasir', 'ayesha', 'hamdan', 'hamdan', 'sara']\n",
    "students.insert(27,'hamdan')   # it didn't give error in 27th index but places the value at the last\n",
    "students"
   ]
  },
  {
   "cell_type": "code",
   "execution_count": 4,
   "metadata": {},
   "outputs": [
    {
     "data": {
      "text/plain": [
       "['asad', 'nasir', 'komal', 'sara', 'khizer', 'Irtiza']"
      ]
     },
     "execution_count": 4,
     "metadata": {},
     "output_type": "execute_result"
    }
   ],
   "source": [
    "students = ['asad','nasir','komal','sara']\n",
    "students = students + [\"khizer\",\"Irtiza\"]\n",
    "students"
   ]
  },
  {
   "cell_type": "code",
   "execution_count": 17,
   "metadata": {},
   "outputs": [
    {
     "data": {
      "text/plain": [
       "3"
      ]
     },
     "execution_count": 17,
     "metadata": {},
     "output_type": "execute_result"
    }
   ],
   "source": [
    "students = ['asad', 'nasir', 'ayesha', 'hamdan', 'hamdan', 'sara']\n",
    "name = 'abc'\n",
    "students = ['asad', 'nasir', 'ayesha', 'hamdan', 'hamdan', 'sara',name]\n",
    "students\n",
    "students.index('hamdan') # hamdan where first gives that index"
   ]
  },
  {
   "cell_type": "code",
   "execution_count": 5,
   "metadata": {},
   "outputs": [
    {
     "data": {
      "text/plain": [
       "['sleep', 'eat', 'repeat']"
      ]
     },
     "execution_count": 5,
     "metadata": {},
     "output_type": "execute_result"
    }
   ],
   "source": [
    "tasks =[]   #empty list\n",
    "tasks = tasks + ['sleep','eat','repeat']\n",
    "tasks"
   ]
  },
  {
   "cell_type": "code",
   "execution_count": 8,
   "metadata": {},
   "outputs": [
    {
     "data": {
      "text/plain": [
       "['abeer', 'haleema', 'abdullah']"
      ]
     },
     "execution_count": 8,
     "metadata": {},
     "output_type": "execute_result"
    }
   ],
   "source": [
    "students =['sara','rafiq','abeer','haleema','abdullah','joe']\n",
    "undergraduate = students[2:5] # after colon the index of that element will come that is after the last element to be added\n",
    "undergraduate"
   ]
  },
  {
   "cell_type": "code",
   "execution_count": 12,
   "metadata": {},
   "outputs": [
    {
     "data": {
      "text/plain": [
       "['abeer', 'haleema', 'abdullah']"
      ]
     },
     "execution_count": 12,
     "metadata": {},
     "output_type": "execute_result"
    }
   ],
   "source": [
    "students =['sara','rafiq','abeer','haleema','abdullah']\n",
    "undergraduate = students[2:] # when the last element is to be copied is at the last index\n",
    "undergraduate"
   ]
  },
  {
   "cell_type": "code",
   "execution_count": 20,
   "metadata": {},
   "outputs": [
    {
     "name": "stdout",
     "output_type": "stream",
     "text": [
      "['sara', 'rafiq', 'abeer', 'haleema', 'abdullah']\n"
     ]
    },
    {
     "data": {
      "text/plain": [
       "['rafiq', 'abeer', 'haleema', 'abdullah']"
      ]
     },
     "execution_count": 20,
     "metadata": {},
     "output_type": "execute_result"
    }
   ],
   "source": [
    "students =['sara','rafiq','abeer','haleema','abdullah']\n",
    "undergraduate = students[:4]  #when the list to be started is from first element\n",
    "print(students)\n",
    "students.remove('sara')  #also use del[index] \n",
    "students"
   ]
  },
  {
   "cell_type": "code",
   "execution_count": 24,
   "metadata": {},
   "outputs": [
    {
     "name": "stdout",
     "output_type": "stream",
     "text": [
      "['abdullah', 'abeer', 'haleema', 'rafiq', 'sara']\n",
      "['sara', 'rafiq', 'haleema', 'abeer', 'abdullah']\n"
     ]
    }
   ],
   "source": [
    "students =['sara','rafiq','abeer','haleema','abdullah']\n",
    "students.sort()  # its reverse is by default false but if we true its reverse # see the shift+tab to see default things\n",
    "print(students)\n",
    "students.sort(reverse = True)\n",
    "print(students)"
   ]
  },
  {
   "cell_type": "code",
   "execution_count": 25,
   "metadata": {},
   "outputs": [
    {
     "ename": "TypeError",
     "evalue": "'<' not supported between instances of 'int' and 'str'",
     "output_type": "error",
     "traceback": [
      "\u001b[1;31m---------------------------------------------------------------------------\u001b[0m",
      "\u001b[1;31mTypeError\u001b[0m                                 Traceback (most recent call last)",
      "\u001b[1;32m<ipython-input-25-af3ba94228b6>\u001b[0m in \u001b[0;36m<module>\u001b[1;34m\u001b[0m\n\u001b[0;32m      1\u001b[0m \u001b[0mstudents\u001b[0m \u001b[1;33m=\u001b[0m\u001b[1;33m[\u001b[0m\u001b[1;34m'sara'\u001b[0m\u001b[1;33m,\u001b[0m\u001b[1;34m'rafiq'\u001b[0m\u001b[1;33m,\u001b[0m\u001b[1;34m'abeer'\u001b[0m\u001b[1;33m,\u001b[0m\u001b[1;36m2\u001b[0m\u001b[1;33m,\u001b[0m\u001b[1;34m'abdullah'\u001b[0m\u001b[1;33m]\u001b[0m\u001b[1;33m\u001b[0m\u001b[1;33m\u001b[0m\u001b[0m\n\u001b[1;32m----> 2\u001b[1;33m \u001b[0mstudents\u001b[0m\u001b[1;33m.\u001b[0m\u001b[0msort\u001b[0m\u001b[1;33m(\u001b[0m\u001b[1;33m)\u001b[0m\u001b[1;33m\u001b[0m\u001b[1;33m\u001b[0m\u001b[0m\n\u001b[0m",
      "\u001b[1;31mTypeError\u001b[0m: '<' not supported between instances of 'int' and 'str'"
     ]
    }
   ],
   "source": [
    "students =['sara','rafiq','abeer',2,'abdullah']\n",
    "students.sort()"
   ]
  },
  {
   "cell_type": "code",
   "execution_count": 27,
   "metadata": {},
   "outputs": [
    {
     "name": "stdout",
     "output_type": "stream",
     "text": [
      "[23, 5, 26, 87]\n",
      "[5, 26, 87]\n",
      "[5, 26, 87]\n"
     ]
    }
   ],
   "source": [
    "marks =[23,5,26,87]\n",
    "list2 = marks   # address or reference is shared # pass by reference  # it is not copy function\n",
    "print(list2)\n",
    "del marks[0]\n",
    "print(marks)\n",
    "print(list2)   # the change also occurs in list2"
   ]
  },
  {
   "cell_type": "code",
   "execution_count": 29,
   "metadata": {},
   "outputs": [
    {
     "name": "stdout",
     "output_type": "stream",
     "text": [
      "[5, 26, 87]\n",
      "[5, 26, 87, 45]\n",
      "[5, 26, 87]\n"
     ]
    }
   ],
   "source": [
    "list3 = list2.copy() # copy function\n",
    "print(list3)\n",
    "list2.append(45)\n",
    "print(list2)\n",
    "print(list3)   # due to copy function the change didn't occur in list3 only change occur in list2 , due to reference not passed"
   ]
  },
  {
   "cell_type": "code",
   "execution_count": 30,
   "metadata": {},
   "outputs": [
    {
     "name": "stdout",
     "output_type": "stream",
     "text": [
      "[87, 26, 5, 23]\n",
      "[]\n"
     ]
    }
   ],
   "source": [
    "list2 =[23,5,26,87]\n",
    "list2.reverse()\n",
    "print(list2)\n",
    "list2.clear()\n",
    "print(list2)"
   ]
  },
  {
   "cell_type": "code",
   "execution_count": 34,
   "metadata": {},
   "outputs": [],
   "source": [
    "numbers = [12,23,45,67,22]"
   ]
  },
  {
   "cell_type": "code",
   "execution_count": 36,
   "metadata": {},
   "outputs": [
    {
     "name": "stdout",
     "output_type": "stream",
     "text": [
      "[12, 23, 45]\n",
      "67\n"
     ]
    }
   ],
   "source": [
    "# list is used as stack  # last in , first out\n",
    "x = numbers.pop() # last element stores in x # when first time run we get 22 in x , second time we get 67 in x but\n",
    "print(numbers)                                                                       #  we are not having multiple values\n",
    "print(x) # by variable storing only one value we cannot store many values of numbers"
   ]
  },
  {
   "cell_type": "code",
   "execution_count": 47,
   "metadata": {},
   "outputs": [],
   "source": [
    "numbers = [12,23,45,67,22]"
   ]
  },
  {
   "cell_type": "code",
   "execution_count": 48,
   "metadata": {},
   "outputs": [],
   "source": [
    "poppedlist = []# we made list # now we use list to store many values"
   ]
  },
  {
   "cell_type": "code",
   "execution_count": 55,
   "metadata": {},
   "outputs": [
    {
     "name": "stdout",
     "output_type": "stream",
     "text": [
      "The list has empty\n",
      "[]\n",
      "The popped list is now : \n",
      "[22, 67, 45, 23, 12]\n"
     ]
    }
   ],
   "source": [
    "if(len(numbers) != 0):\n",
    "    popped_element = numbers.pop()\n",
    "    poppedlist.append(popped_element)   # first time this cell run the list will have only 22 , second time it will have  22, 67\n",
    "else :\n",
    "    print('The list has empty')   # when we run 6th time this cell\n",
    "print(numbers)\n",
    "print('The popped list is now : ')\n",
    "print(poppedlist)"
   ]
  },
  {
   "cell_type": "markdown",
   "metadata": {},
   "source": [
    "# list in list"
   ]
  },
  {
   "cell_type": "code",
   "execution_count": 56,
   "metadata": {},
   "outputs": [
    {
     "data": {
      "text/plain": [
       "[19, 89, ['sara', 'rafiq']]"
      ]
     },
     "execution_count": 56,
     "metadata": {},
     "output_type": "execute_result"
    }
   ],
   "source": [
    "list4 = [ 19,89,['sara','rafiq']]\n",
    "print(list4)"
   ]
  },
  {
   "cell_type": "code",
   "execution_count": 58,
   "metadata": {},
   "outputs": [
    {
     "data": {
      "text/plain": [
       "'rafiq'"
      ]
     },
     "execution_count": 58,
     "metadata": {},
     "output_type": "execute_result"
    }
   ],
   "source": [
    "list4[2][1] # acessing element of the list within the list "
   ]
  },
  {
   "cell_type": "code",
   "execution_count": 81,
   "metadata": {},
   "outputs": [
    {
     "data": {
      "text/plain": [
       "['apple', 'mango', 'peach']"
      ]
     },
     "execution_count": 81,
     "metadata": {},
     "output_type": "execute_result"
    }
   ],
   "source": [
    "fruits=['apple','mango','peach']\n",
    "fruits"
   ]
  },
  {
   "cell_type": "code",
   "execution_count": 82,
   "metadata": {},
   "outputs": [
    {
     "data": {
      "text/plain": [
       "['ali', 'kiran', 123, 'karachi']"
      ]
     },
     "execution_count": 82,
     "metadata": {},
     "output_type": "execute_result"
    }
   ],
   "source": [
    "students = ['ali','kiran',123,'karachi']\n",
    "students"
   ]
  },
  {
   "cell_type": "code",
   "execution_count": 75,
   "metadata": {},
   "outputs": [
    {
     "name": "stdout",
     "output_type": "stream",
     "text": [
      "['mango', 'peach']\n",
      "[23, 45, 'abcd', ['mango', 'peach'], ['ali', 'kiran', 123]]\n"
     ]
    }
   ],
   "source": [
    "abc = [23,45,'abcd',fruits,students]\n",
    "del abc[3][0] # it will delete apple by giving apple's index\n",
    "print(fruits)\n",
    "print(abc)"
   ]
  },
  {
   "cell_type": "code",
   "execution_count": 80,
   "metadata": {},
   "outputs": [
    {
     "name": "stdout",
     "output_type": "stream",
     "text": [
      "['mango', 'peach']\n",
      "[23, 45, 'abcd', ['mango', 'peach'], ['ali', 'kiran', 123]]\n"
     ]
    }
   ],
   "source": [
    "abc = [23,45,'abcd',fruits,students]\n",
    "abc[3].remove('apple') # it will delete apple by  giving 'apple' value name\n",
    "print(abc)"
   ]
  },
  {
   "cell_type": "code",
   "execution_count": 83,
   "metadata": {},
   "outputs": [
    {
     "data": {
      "text/plain": [
       "[23, 45, 'abcd', ['apple', 'mango', 'peach'], ['ali', 'kiran', 123]]"
      ]
     },
     "execution_count": 83,
     "metadata": {},
     "output_type": "execute_result"
    }
   ],
   "source": [
    "abc = [23,45,'abcd',fruits,students]\n",
    "del abc[4][3]  # deleting karachi by giving it's index\n",
    "abc"
   ]
  },
  {
   "cell_type": "markdown",
   "metadata": {},
   "source": [
    "# Slicing"
   ]
  },
  {
   "cell_type": "code",
   "execution_count": 84,
   "metadata": {},
   "outputs": [
    {
     "data": {
      "text/plain": [
       "90"
      ]
     },
     "execution_count": 84,
     "metadata": {},
     "output_type": "execute_result"
    }
   ],
   "source": [
    "# to acess the single value or more values from the list\n",
    "#to delete multiple values from list , we use slicing\n",
    "# the item that is sliced from list didn't affect the list just slice it's copy\n",
    "# index    6-  -5  -4 -3-2 -1\n",
    "numbers = [29,67,45,3,89,90]\n",
    "# index     0   1 2 3  4 5\n",
    "numbers[-1]"
   ]
  },
  {
   "cell_type": "code",
   "execution_count": 85,
   "metadata": {},
   "outputs": [
    {
     "data": {
      "text/plain": [
       "[67, 45]"
      ]
     },
     "execution_count": 85,
     "metadata": {},
     "output_type": "execute_result"
    }
   ],
   "source": [
    "numbers = [29,67,45,3,89,90]\n",
    "numbers[1:3]  #[included index : not  included index ]  # we are passing range"
   ]
  },
  {
   "cell_type": "code",
   "execution_count": 86,
   "metadata": {},
   "outputs": [
    {
     "name": "stdout",
     "output_type": "stream",
     "text": [
      "[29, 67, 45, 3, 89, 90, 78, 98, 10, 76]\n"
     ]
    },
    {
     "data": {
      "text/plain": [
       "[67, 3, 90, 98, 76]"
      ]
     },
     "execution_count": 86,
     "metadata": {},
     "output_type": "execute_result"
    }
   ],
   "source": [
    "numbers = [29,67,45,3,89,90,78,98,10,76]\n",
    "print(numbers)\n",
    "numbers[1:10:2]  #the third parameter is for indexing\n",
    "# goes to 67 ,skip 45 , goes to 3 and skip 89 ,goes to 90\n",
    "                # ie take 2 steps but skip the value 1st and print 2nd"
   ]
  },
  {
   "cell_type": "code",
   "execution_count": 2,
   "metadata": {},
   "outputs": [
    {
     "name": "stdout",
     "output_type": "stream",
     "text": [
      "[29, 67, 45, 3, 89, 90, 78, 98, 10, 76]\n"
     ]
    },
    {
     "data": {
      "text/plain": [
       "[67, 89, 98]"
      ]
     },
     "execution_count": 2,
     "metadata": {},
     "output_type": "execute_result"
    }
   ],
   "source": [
    "numbers = [29,67,45,3,89,90,78,98,10,76]\n",
    "print(numbers)\n",
    "numbers[1:10:3] # take 3 steps , skips the first and second value and prints the third value\n",
    "                # slicing is occuring left to right from small index to large index"
   ]
  },
  {
   "cell_type": "code",
   "execution_count": 3,
   "metadata": {},
   "outputs": [
    {
     "data": {
      "text/plain": [
       "[67, 45, 3, 89, 90, 78, 98, 10, 76]"
      ]
     },
     "execution_count": 3,
     "metadata": {},
     "output_type": "execute_result"
    }
   ],
   "source": [
    "numbers[1:10:1]"
   ]
  },
  {
   "cell_type": "code",
   "execution_count": 4,
   "metadata": {},
   "outputs": [
    {
     "data": {
      "text/plain": [
       "[90, 78, 98, 10]"
      ]
     },
     "execution_count": 4,
     "metadata": {},
     "output_type": "execute_result"
    }
   ],
   "source": [
    "numbers[-5:-1]"
   ]
  },
  {
   "cell_type": "code",
   "execution_count": 88,
   "metadata": {},
   "outputs": [
    {
     "data": {
      "text/plain": [
       "[]"
      ]
     },
     "execution_count": 88,
     "metadata": {},
     "output_type": "execute_result"
    }
   ],
   "source": [
    "#important\n",
    "# slicing cannot occur when from large index to small index but produces empty list but NOT GENERATE ANY ERROR\n",
    "numbers = [29,67,45,3,89,90,78,98,10,76]\n",
    "numbers[6:3]"
   ]
  },
  {
   "cell_type": "code",
   "execution_count": 91,
   "metadata": {},
   "outputs": [
    {
     "data": {
      "text/plain": [
       "[]"
      ]
     },
     "execution_count": 91,
     "metadata": {},
     "output_type": "execute_result"
    }
   ],
   "source": [
    "numbers = [29,67,45,3,89,90,78,98,10,76]\n",
    "numbers[-1:-5]  #as -1 is greater than -5"
   ]
  },
  {
   "cell_type": "code",
   "execution_count": 90,
   "metadata": {},
   "outputs": [
    {
     "data": {
      "text/plain": [
       "[76, 98]"
      ]
     },
     "execution_count": 90,
     "metadata": {},
     "output_type": "execute_result"
    }
   ],
   "source": [
    "numbers = [29,67,45,3,89,90,78,98,10,76]\n",
    "numbers[-1:-5:-2]  #imp # -1 say start karay ga reverse mein aur -4 per ruk jaega \n",
    "                  # slicing can only be done from large index to small index when step is in negative"
   ]
  },
  {
   "cell_type": "code",
   "execution_count": 92,
   "metadata": {},
   "outputs": [
    {
     "data": {
      "text/plain": [
       "[29, 45, 89, 78, 10]"
      ]
     },
     "execution_count": 92,
     "metadata": {},
     "output_type": "execute_result"
    }
   ],
   "source": [
    "numbers = [29,67,45,3,89,90,78,98,10,76]\n",
    "numbers[::2]  # when startind and ending index not given so the index will be assume from start to end"
   ]
  },
  {
   "cell_type": "markdown",
   "metadata": {},
   "source": [
    "# TUPLES"
   ]
  },
  {
   "cell_type": "code",
   "execution_count": 8,
   "metadata": {},
   "outputs": [],
   "source": [
    "#tuples are immutable  ie no changes can be appear \n",
    "mytuple = (3,4,5,6,7)"
   ]
  },
  {
   "cell_type": "code",
   "execution_count": 7,
   "metadata": {},
   "outputs": [
    {
     "data": {
      "text/plain": [
       "tuple"
      ]
     },
     "execution_count": 7,
     "metadata": {},
     "output_type": "execute_result"
    }
   ],
   "source": [
    "type(mytuple)"
   ]
  },
  {
   "cell_type": "code",
   "execution_count": 9,
   "metadata": {},
   "outputs": [
    {
     "name": "stdout",
     "output_type": "stream",
     "text": [
      "5\n",
      "3\n"
     ]
    }
   ],
   "source": [
    "print(len(mytuple))\n",
    "print(mytuple[0])"
   ]
  },
  {
   "cell_type": "code",
   "execution_count": 10,
   "metadata": {},
   "outputs": [
    {
     "data": {
      "text/plain": [
       "(4, 5, 6)"
      ]
     },
     "execution_count": 10,
     "metadata": {},
     "output_type": "execute_result"
    }
   ],
   "source": [
    "mytuple[1:4] # slicing rules can also be applied to tupple same as that of list"
   ]
  },
  {
   "cell_type": "code",
   "execution_count": 11,
   "metadata": {},
   "outputs": [
    {
     "ename": "TypeError",
     "evalue": "'tuple' object doesn't support item deletion",
     "output_type": "error",
     "traceback": [
      "\u001b[1;31m---------------------------------------------------------------------------\u001b[0m",
      "\u001b[1;31mTypeError\u001b[0m                                 Traceback (most recent call last)",
      "\u001b[1;32m<ipython-input-11-667a276aa503>\u001b[0m in \u001b[0;36m<module>\u001b[1;34m\u001b[0m\n\u001b[1;32m----> 1\u001b[1;33m \u001b[1;32mdel\u001b[0m \u001b[0mmytuple\u001b[0m\u001b[1;33m[\u001b[0m\u001b[1;36m0\u001b[0m\u001b[1;33m]\u001b[0m\u001b[1;33m\u001b[0m\u001b[1;33m\u001b[0m\u001b[0m\n\u001b[0m",
      "\u001b[1;31mTypeError\u001b[0m: 'tuple' object doesn't support item deletion"
     ]
    }
   ],
   "source": [
    "del mytuple[0]"
   ]
  },
  {
   "cell_type": "code",
   "execution_count": 12,
   "metadata": {},
   "outputs": [],
   "source": [
    "# packing and unpacking of list and tuple\n",
    "a = ['asad','fahad','asma','sara'] # multiple values in single variable # packing\n",
    "# in list , the values are also considered to be packed"
   ]
  },
  {
   "cell_type": "code",
   "execution_count": 13,
   "metadata": {},
   "outputs": [],
   "source": [
    "w,x,y,z = a # unpacking"
   ]
  },
  {
   "cell_type": "code",
   "execution_count": 14,
   "metadata": {},
   "outputs": [
    {
     "name": "stdout",
     "output_type": "stream",
     "text": [
      "asad\n",
      "fahad\n",
      "asma\n",
      "sara\n"
     ]
    }
   ],
   "source": [
    "print(w)\n",
    "print(x)\n",
    "print(y)\n",
    "print(z)"
   ]
  },
  {
   "cell_type": "markdown",
   "metadata": {},
   "source": [
    "# FOR LOOPs"
   ]
  },
  {
   "cell_type": "code",
   "execution_count": 15,
   "metadata": {},
   "outputs": [
    {
     "name": "stdout",
     "output_type": "stream",
     "text": [
      "summaiya\n",
      "summaiya\n",
      "summaiya\n",
      "summaiya\n",
      "summaiya\n",
      "summaiya\n",
      "summaiya\n",
      "summaiya\n",
      "summaiya\n",
      "summaiya\n"
     ]
    }
   ],
   "source": [
    "#loop means up and down # the things that take alot time ie time complexity increases\n",
    "for a in range(10) : \n",
    "    print(\"summaiya\")"
   ]
  },
  {
   "cell_type": "code",
   "execution_count": 19,
   "metadata": {},
   "outputs": [
    {
     "name": "stdout",
     "output_type": "stream",
     "text": [
      "45\n"
     ]
    }
   ],
   "source": [
    "for a in range(10) :  # sum of first 9 natural numbers # range function starts from 0\n",
    "    if(a == 0):\n",
    "        x = a\n",
    "    else :\n",
    "        x += a\n",
    "print(x)"
   ]
  },
  {
   "cell_type": "code",
   "execution_count": 20,
   "metadata": {},
   "outputs": [
    {
     "name": "stdout",
     "output_type": "stream",
     "text": [
      "2 summaiya\n",
      "3 summaiya\n",
      "4 summaiya\n"
     ]
    }
   ],
   "source": [
    "for a in range(2,5) :\n",
    "    print(a,'summaiya')"
   ]
  },
  {
   "cell_type": "code",
   "execution_count": 21,
   "metadata": {},
   "outputs": [
    {
     "name": "stdout",
     "output_type": "stream",
     "text": [
      "0 summaiya\n",
      "2 summaiya\n",
      "4 summaiya\n",
      "6 summaiya\n",
      "8 summaiya\n"
     ]
    }
   ],
   "source": [
    "for a in range(0,10,2): # even numbers\n",
    "    print(a,'summaiya')"
   ]
  },
  {
   "cell_type": "code",
   "execution_count": 22,
   "metadata": {},
   "outputs": [
    {
     "name": "stdout",
     "output_type": "stream",
     "text": [
      "1 summaiya\n",
      "3 summaiya\n",
      "5 summaiya\n",
      "7 summaiya\n",
      "9 summaiya\n"
     ]
    }
   ],
   "source": [
    "for a in range(1,10,2) : # odd numbers\n",
    "    print(a,'summaiya')"
   ]
  },
  {
   "cell_type": "code",
   "execution_count": 23,
   "metadata": {},
   "outputs": [
    {
     "name": "stdout",
     "output_type": "stream",
     "text": [
      "10 summaiya\n",
      "8 summaiya\n",
      "6 summaiya\n",
      "4 summaiya\n",
      "2 summaiya\n"
     ]
    }
   ],
   "source": [
    "for a in range(10,1,-2) :\n",
    "    print(a,'summaiya')"
   ]
  },
  {
   "cell_type": "code",
   "execution_count": 32,
   "metadata": {},
   "outputs": [
    {
     "name": "stdout",
     "output_type": "stream",
     "text": [
      "\n",
      " *\n",
      "\n",
      " **\n",
      "\n",
      " ***\n",
      "\n",
      " ****\n",
      "\n",
      " *****\n",
      "\n",
      " ******\n",
      "\n",
      " *******\n",
      "\n",
      " ********\n",
      "\n",
      " *********\n",
      "\n",
      " **********\n"
     ]
    }
   ],
   "source": [
    "x = \"*\"\n",
    "for a in range(1,11) :\n",
    "    print('\\n',x*a)"
   ]
  },
  {
   "cell_type": "code",
   "execution_count": 33,
   "metadata": {},
   "outputs": [
    {
     "name": "stdout",
     "output_type": "stream",
     "text": [
      "*\n",
      "**\n",
      "***\n",
      "****\n",
      "*****\n",
      "******\n",
      "*******\n",
      "********\n",
      "*********\n",
      "**********\n"
     ]
    }
   ],
   "source": [
    "x = \"*\"\n",
    "for a in range(1,11) :\n",
    "    print(x*a)"
   ]
  },
  {
   "cell_type": "code",
   "execution_count": 35,
   "metadata": {},
   "outputs": [
    {
     "name": "stdout",
     "output_type": "stream",
     "text": [
      "john\n",
      "ada\n",
      "linda\n"
     ]
    }
   ],
   "source": [
    "my_list = ['john','ada','linda']\n",
    "for i in my_list :\n",
    "    print(i)"
   ]
  },
  {
   "cell_type": "code",
   "execution_count": 44,
   "metadata": {},
   "outputs": [
    {
     "name": "stdout",
     "output_type": "stream",
     "text": [
      "[4, 8, 10, 16, 20]\n"
     ]
    }
   ],
   "source": [
    "my_num = [2,4,5,8,10]\n",
    "my_listt=[]\n",
    "for i in my_num :\n",
    "    i *= 2\n",
    "    my_listt.append(i)\n",
    "print(my_listt)"
   ]
  },
  {
   "cell_type": "code",
   "execution_count": 46,
   "metadata": {},
   "outputs": [
    {
     "name": "stdout",
     "output_type": "stream",
     "text": [
      "0\n",
      "1\n",
      "2\n",
      "3\n",
      "4\n",
      "5\n",
      "6\n",
      "7\n",
      "8\n",
      "9\n",
      "10\n",
      "20\n",
      "11\n",
      "12\n",
      "13\n",
      "14\n",
      "15\n",
      "16\n",
      "17\n",
      "18\n",
      "19\n",
      "20\n"
     ]
    }
   ],
   "source": [
    "for i in range(21) :\n",
    "    print(i)\n",
    "    if i==10 :\n",
    "        print(i*2)"
   ]
  },
  {
   "cell_type": "code",
   "execution_count": 52,
   "metadata": {},
   "outputs": [
    {
     "name": "stdout",
     "output_type": "stream",
     "text": [
      "0\n",
      "1\n",
      "2\n",
      "4\n",
      "5\n",
      "6\n",
      "7\n",
      "8\n"
     ]
    }
   ],
   "source": [
    "for i in range(9) :\n",
    "    if(i == 3) :\n",
    "        continue # in i==3 condition , the loop will not execute\n",
    "    print(i)"
   ]
  },
  {
   "cell_type": "code",
   "execution_count": 53,
   "metadata": {},
   "outputs": [
    {
     "name": "stdout",
     "output_type": "stream",
     "text": [
      "0\n",
      "1\n",
      "2\n"
     ]
    }
   ],
   "source": [
    "for  i in range(9) :\n",
    "    if( i==3) :\n",
    "        break #  break stops the further execution of program\n",
    "    print(i)\n",
    "    "
   ]
  },
  {
   "cell_type": "code",
   "execution_count": 64,
   "metadata": {},
   "outputs": [],
   "source": [
    "for i in range(5):\n",
    "    pass # without pass the error will occur # we can use pass when we are deciding the code and wanted to execute the for loop"
   ]
  },
  {
   "cell_type": "code",
   "execution_count": 67,
   "metadata": {},
   "outputs": [
    {
     "name": "stdout",
     "output_type": "stream",
     "text": [
      "Enter any number : 2\n",
      "\n",
      "2 x 1 = 2\n",
      "\n",
      "2 x 2 = 4\n",
      "\n",
      "2 x 3 = 6\n",
      "\n",
      "2 x 4 = 8\n",
      "\n",
      "2 x 5 = 10\n",
      "\n",
      "2 x 6 = 12\n",
      "\n",
      "2 x 7 = 14\n",
      "\n",
      "2 x 8 = 16\n",
      "\n",
      "2 x 9 = 18\n",
      "\n",
      "2 x 10 = 20\n"
     ]
    }
   ],
   "source": [
    "num = int(input('Enter any number : '))\n",
    "for numm in range(1,11) :\n",
    "    x = (num * numm)\n",
    "    print(\"\\n\"+str(num) + \" x \" + str(numm) + \" = \" + str(x))"
   ]
  },
  {
   "cell_type": "code",
   "execution_count": 73,
   "metadata": {},
   "outputs": [
    {
     "name": "stdout",
     "output_type": "stream",
     "text": [
      "P 0\n",
      "P 1\n",
      "P 2\n",
      "P 3\n",
      "P 4\n",
      "a 0\n",
      "a 1\n",
      "a 2\n",
      "a 3\n",
      "a 4\n",
      "k 0\n",
      "k 1\n",
      "k 2\n",
      "k 3\n",
      "k 4\n",
      "i 0\n",
      "i 1\n",
      "i 2\n",
      "i 3\n",
      "i 4\n",
      "s 0\n",
      "s 1\n",
      "s 2\n",
      "s 3\n",
      "s 4\n",
      "t 0\n",
      "t 1\n",
      "t 2\n",
      "t 3\n",
      "t 4\n",
      "a 0\n",
      "a 1\n",
      "a 2\n",
      "a 3\n",
      "a 4\n",
      "n 0\n",
      "n 1\n",
      "n 2\n",
      "n 3\n",
      "n 4\n"
     ]
    }
   ],
   "source": [
    "for a in \"Pakistan\" : # outer loop  # will first execute\n",
    "    for b in range(5):  # inner loop\n",
    "        print(a,b)"
   ]
  },
  {
   "cell_type": "code",
   "execution_count": 74,
   "metadata": {},
   "outputs": [
    {
     "name": "stdout",
     "output_type": "stream",
     "text": [
      "['sara bano', 'sara sarfaraz', 'sara ahmed', 'summaiya bano', 'summaiya sarfaraz', 'summaiya ahmed', 'abeer bano', 'abeer sarfaraz', 'abeer ahmed']\n"
     ]
    }
   ],
   "source": [
    "f_name = ['sara','summaiya','abeer']\n",
    "l_name = ['bano','sarfaraz','ahmed']\n",
    "full_name =[]\n",
    "for f in f_name :\n",
    "    for l in l_name :\n",
    "        full_name.append(f +' ' + l) \n",
    "print(full_name)\n"
   ]
  },
  {
   "cell_type": "code",
   "execution_count": 76,
   "metadata": {},
   "outputs": [
    {
     "data": {
      "text/plain": [
       "'PAKISTAN'"
      ]
     },
     "execution_count": 76,
     "metadata": {},
     "output_type": "execute_result"
    }
   ],
   "source": [
    "# changing case\n",
    "\"pakistan\".upper()"
   ]
  },
  {
   "cell_type": "code",
   "execution_count": 77,
   "metadata": {},
   "outputs": [
    {
     "data": {
      "text/plain": [
       "'KIST'"
      ]
     },
     "execution_count": 77,
     "metadata": {},
     "output_type": "execute_result"
    }
   ],
   "source": [
    "STRING = 'PAKISTAN'\n",
    "STRING[2:6]"
   ]
  },
  {
   "cell_type": "markdown",
   "metadata": {},
   "source": [
    "# DICTIONARIES"
   ]
  },
  {
   "cell_type": "code",
   "execution_count": 79,
   "metadata": {},
   "outputs": [
    {
     "data": {
      "text/plain": [
       "dict"
      ]
     },
     "execution_count": 79,
     "metadata": {},
     "output_type": "execute_result"
    }
   ],
   "source": [
    "#dictionary works on key value pairs\n",
    "adict = {}\n",
    "type(adict)"
   ]
  },
  {
   "cell_type": "code",
   "execution_count": 80,
   "metadata": {},
   "outputs": [
    {
     "data": {
      "text/plain": [
       "{'name': 'summaiya'}"
      ]
     },
     "execution_count": 80,
     "metadata": {},
     "output_type": "execute_result"
    }
   ],
   "source": [
    "adict['name']='summaiya'  # adding value to dictionary\n",
    "adict"
   ]
  },
  {
   "cell_type": "code",
   "execution_count": 81,
   "metadata": {},
   "outputs": [
    {
     "data": {
      "text/plain": [
       "{'name': 'summaiya', 'age': 34}"
      ]
     },
     "execution_count": 81,
     "metadata": {},
     "output_type": "execute_result"
    }
   ],
   "source": [
    "adict['age']=34\n",
    "adict"
   ]
  },
  {
   "cell_type": "code",
   "execution_count": 82,
   "metadata": {},
   "outputs": [
    {
     "data": {
      "text/plain": [
       "34"
      ]
     },
     "execution_count": 82,
     "metadata": {},
     "output_type": "execute_result"
    }
   ],
   "source": [
    "adict['age']  # acessing value"
   ]
  },
  {
   "cell_type": "code",
   "execution_count": 84,
   "metadata": {},
   "outputs": [
    {
     "data": {
      "text/plain": [
       "{'city': 'khi', 'pop': '30M'}"
      ]
     },
     "execution_count": 84,
     "metadata": {},
     "output_type": "execute_result"
    }
   ],
   "source": [
    "Bdict = {'city' : 'khi' , 'pop' : '30M'}  # key can be string or integer # value can be string or integer\n",
    "#           key     Value     key     value\n",
    "Bdict"
   ]
  },
  {
   "cell_type": "code",
   "execution_count": 86,
   "metadata": {},
   "outputs": [
    {
     "data": {
      "text/plain": [
       "{'city': 'khi', 'pop': '30M', 'helo': 123456}"
      ]
     },
     "execution_count": 86,
     "metadata": {},
     "output_type": "execute_result"
    }
   ],
   "source": [
    "Bdict['helo'] = 123456\n",
    "Bdict"
   ]
  },
  {
   "cell_type": "code",
   "execution_count": 83,
   "metadata": {},
   "outputs": [
    {
     "data": {
      "text/plain": [
       "{'name': 'summaiya'}"
      ]
     },
     "execution_count": 83,
     "metadata": {},
     "output_type": "execute_result"
    }
   ],
   "source": [
    "del adict['age']\n",
    "adict"
   ]
  },
  {
   "cell_type": "code",
   "execution_count": 87,
   "metadata": {},
   "outputs": [
    {
     "data": {
      "text/plain": [
       "{'city': 'lah', 'pop': '30M', 'helo': 123456}"
      ]
     },
     "execution_count": 87,
     "metadata": {},
     "output_type": "execute_result"
    }
   ],
   "source": [
    "Bdict['city'] = 'lah'  # same key use for new value so it will overwrite the previous value\n",
    "Bdict"
   ]
  },
  {
   "cell_type": "code",
   "execution_count": 88,
   "metadata": {},
   "outputs": [
    {
     "data": {
      "text/plain": [
       "{'name': 'summaiya'}"
      ]
     },
     "execution_count": 88,
     "metadata": {},
     "output_type": "execute_result"
    }
   ],
   "source": [
    "adict"
   ]
  },
  {
   "cell_type": "code",
   "execution_count": 90,
   "metadata": {},
   "outputs": [
    {
     "data": {
      "text/plain": [
       "{'name': 'summaiya', 'age': 18, 'contact': 12345}"
      ]
     },
     "execution_count": 90,
     "metadata": {},
     "output_type": "execute_result"
    }
   ],
   "source": [
    "adict['age'] = 18\n",
    "adict['contact'] = 12345\n",
    "adict"
   ]
  },
  {
   "cell_type": "code",
   "execution_count": 92,
   "metadata": {},
   "outputs": [
    {
     "name": "stdout",
     "output_type": "stream",
     "text": [
      "name\n",
      "age\n",
      "contact\n"
     ]
    }
   ],
   "source": [
    "for key in adict.keys() :  # .keys() will bring all keys\n",
    "    print(key)"
   ]
  },
  {
   "cell_type": "code",
   "execution_count": 94,
   "metadata": {},
   "outputs": [
    {
     "name": "stdout",
     "output_type": "stream",
     "text": [
      "summaiya\n",
      "18\n",
      "12345\n"
     ]
    }
   ],
   "source": [
    "for val in adict.values() :  #.values will bring all values\n",
    "    print(val)"
   ]
  },
  {
   "cell_type": "code",
   "execution_count": 95,
   "metadata": {},
   "outputs": [
    {
     "name": "stdout",
     "output_type": "stream",
     "text": [
      "name summaiya\n",
      "age 18\n",
      "contact 12345\n"
     ]
    }
   ],
   "source": [
    "for a,b in adict.items() :  #.items will select both values # (imp) first variable will always contain key\n",
    "    print(a,b)"
   ]
  },
  {
   "cell_type": "code",
   "execution_count": 96,
   "metadata": {},
   "outputs": [
    {
     "name": "stdout",
     "output_type": "stream",
     "text": [
      "('name', 'summaiya')\n",
      "('age', 18)\n",
      "('contact', 12345)\n"
     ]
    }
   ],
   "source": [
    "for k in adict.items() :  # (imp) as variable cannot hold multiple values so the two items will be stored as tuple\n",
    "    print(k)"
   ]
  },
  {
   "cell_type": "markdown",
   "metadata": {},
   "source": [
    "# list of dictionaries"
   ]
  },
  {
   "cell_type": "code",
   "execution_count": 97,
   "metadata": {},
   "outputs": [
    {
     "name": "stdout",
     "output_type": "stream",
     "text": [
      "[23, 45, 6, {'fruit': 'apple', 'food': 'biryani'}]\n",
      "{'fruit': 'apple', 'food': 'biryani'}\n"
     ]
    }
   ],
   "source": [
    "listt = [23,45,6,{'fruit' : 'apple','food' : 'biryani'}]\n",
    "print(listt)\n",
    "print(listt[3])"
   ]
  },
  {
   "cell_type": "code",
   "execution_count": 98,
   "metadata": {},
   "outputs": [
    {
     "data": {
      "text/plain": [
       "'biryani'"
      ]
     },
     "execution_count": 98,
     "metadata": {},
     "output_type": "execute_result"
    }
   ],
   "source": [
    "listt[3]['food']  # particular key "
   ]
  },
  {
   "cell_type": "code",
   "execution_count": 99,
   "metadata": {},
   "outputs": [
    {
     "data": {
      "text/plain": [
       "False"
      ]
     },
     "execution_count": 99,
     "metadata": {},
     "output_type": "execute_result"
    }
   ],
   "source": [
    "'food' in adict # key is not present"
   ]
  },
  {
   "cell_type": "code",
   "execution_count": 2,
   "metadata": {},
   "outputs": [
    {
     "name": "stdout",
     "output_type": "stream",
     "text": [
      "Enter n number as to get sum of n numbers5\n",
      "sum of 5 numbers is : 15  \n"
     ]
    }
   ],
   "source": [
    "i = int(input(\"Enter n number as to get sum of n numbers\"))\n",
    "x = int(i+1)\n",
    "for i in range(0,x):\n",
    "    if(i==0) :\n",
    "        a = i\n",
    "    else :\n",
    "        a = a+i\n",
    "    i-1\n",
    "print(f\"sum of {i} numbers is : {a}  \")"
   ]
  },
  {
   "cell_type": "code",
   "execution_count": 3,
   "metadata": {},
   "outputs": [],
   "source": [
    "a= [{1:100},{2 : 200},{3:300}] # list of dictionaries"
   ]
  },
  {
   "cell_type": "code",
   "execution_count": 4,
   "metadata": {},
   "outputs": [
    {
     "data": {
      "text/plain": [
       "200"
      ]
     },
     "execution_count": 4,
     "metadata": {},
     "output_type": "execute_result"
    }
   ],
   "source": [
    "a[1][2]  # [list index][dictionary key]"
   ]
  },
  {
   "cell_type": "code",
   "execution_count": 6,
   "metadata": {},
   "outputs": [],
   "source": [
    "d ={'names' : ['asad','saad','daad'],'ages' : [23,34,45] } # dictionaries of list"
   ]
  },
  {
   "cell_type": "code",
   "execution_count": 9,
   "metadata": {},
   "outputs": [
    {
     "data": {
      "text/plain": [
       "'asad'"
      ]
     },
     "execution_count": 9,
     "metadata": {},
     "output_type": "execute_result"
    }
   ],
   "source": [
    "d['names'][0]  #[value][list index]"
   ]
  },
  {
   "cell_type": "markdown",
   "metadata": {},
   "source": [
    "# Functions"
   ]
  },
  {
   "cell_type": "code",
   "execution_count": 12,
   "metadata": {},
   "outputs": [
    {
     "name": "stdout",
     "output_type": "stream",
     "text": [
      "46\n"
     ]
    }
   ],
   "source": [
    "# we used functions for reuseability of code\n",
    "a = 12\n",
    "b = 34\n",
    "c = a+b\n",
    "print(c)"
   ]
  },
  {
   "cell_type": "code",
   "execution_count": 13,
   "metadata": {},
   "outputs": [],
   "source": [
    " def addtwonumbers() :\n",
    "    a = 12\n",
    "    b = 34\n",
    "    c = a+b\n",
    "    print(c)  "
   ]
  },
  {
   "cell_type": "code",
   "execution_count": 14,
   "metadata": {},
   "outputs": [
    {
     "name": "stdout",
     "output_type": "stream",
     "text": [
      "46\n"
     ]
    }
   ],
   "source": [
    "addtwonumbers()"
   ]
  },
  {
   "cell_type": "code",
   "execution_count": 16,
   "metadata": {},
   "outputs": [],
   "source": [
    "def greeting(name) :    # parameterized function \n",
    "    print(f'you are welcome {name}')"
   ]
  },
  {
   "cell_type": "code",
   "execution_count": 17,
   "metadata": {},
   "outputs": [
    {
     "name": "stdout",
     "output_type": "stream",
     "text": [
      "you are welcome sara\n"
     ]
    }
   ],
   "source": [
    "greeting('sara')    # takes one argument"
   ]
  },
  {
   "cell_type": "code",
   "execution_count": 18,
   "metadata": {},
   "outputs": [],
   "source": [
    "def sum(a,b) :\n",
    "    c = a+b\n",
    "    print(c)"
   ]
  },
  {
   "cell_type": "code",
   "execution_count": 19,
   "metadata": {},
   "outputs": [
    {
     "name": "stdout",
     "output_type": "stream",
     "text": [
      "6\n"
     ]
    }
   ],
   "source": [
    "sum(2,4)"
   ]
  },
  {
   "cell_type": "code",
   "execution_count": 23,
   "metadata": {},
   "outputs": [],
   "source": [
    "def giveMefullName(firstname , middlename , lastname) :\n",
    "    fullName = f\"{firstname} {middlename} {lastname}\"\n",
    "    print(fullName)"
   ]
  },
  {
   "cell_type": "code",
   "execution_count": 24,
   "metadata": {},
   "outputs": [
    {
     "name": "stdout",
     "output_type": "stream",
     "text": [
      "cute sara bano\n"
     ]
    }
   ],
   "source": [
    "giveMefullName('cute','sara','bano') # positional arguments"
   ]
  },
  {
   "cell_type": "code",
   "execution_count": 26,
   "metadata": {},
   "outputs": [
    {
     "name": "stdout",
     "output_type": "stream",
     "text": [
      "sir nasir hussain\n"
     ]
    }
   ],
   "source": [
    "giveMefullName(middlename=\"nasir\",firstname = \"sir\",lastname = 'hussain') # key word argument\n",
    "# if sequence is not followed by user"
   ]
  },
  {
   "cell_type": "code",
   "execution_count": 27,
   "metadata": {},
   "outputs": [],
   "source": [
    "# default arguments\n",
    "def giveMefullName(firstname  , lastname, middlename) :\n",
    "    fullName = f\"{firstname} {middlename} {lastname}\"\n",
    "    print(fullName)"
   ]
  },
  {
   "cell_type": "code",
   "execution_count": 31,
   "metadata": {},
   "outputs": [
    {
     "name": "stdout",
     "output_type": "stream",
     "text": [
      "sara bano \n"
     ]
    }
   ],
   "source": [
    "giveMefullName(\"sara\",'bano',\"\")"
   ]
  },
  {
   "cell_type": "code",
   "execution_count": null,
   "metadata": {},
   "outputs": [],
   "source": [
    "#local variable === within function\n",
    "#global variable === everywhere in the code"
   ]
  },
  {
   "cell_type": "code",
   "execution_count": 35,
   "metadata": {},
   "outputs": [],
   "source": [
    "def sub(u,v):\n",
    "    w = u-v\n",
    "    return w,'hello python'\n",
    "  #  print('hello\") #this line will not execute b/c after return statement function will end"
   ]
  },
  {
   "cell_type": "code",
   "execution_count": 36,
   "metadata": {},
   "outputs": [
    {
     "name": "stdout",
     "output_type": "stream",
     "text": [
      "(2, 'hello python')\n"
     ]
    }
   ],
   "source": [
    "result =sub(4,2)\n",
    "print(result)  # result will be returned in tuple as two values are to be returned"
   ]
  },
  {
   "cell_type": "code",
   "execution_count": 37,
   "metadata": {},
   "outputs": [
    {
     "name": "stdout",
     "output_type": "stream",
     "text": [
      "11 i am a local global\n"
     ]
    }
   ],
   "source": [
    "def sub(u,v):\n",
    "    global q  # q is in the function but it is declared as global so can be acess outside the function\n",
    "    q = 'i am a local global'\n",
    "    w = u-v\n",
    "    return w\n",
    "print(sub(15,4),q)"
   ]
  },
  {
   "cell_type": "markdown",
   "metadata": {},
   "source": [
    "# args,kwargs\n"
   ]
  },
  {
   "cell_type": "code",
   "execution_count": 1,
   "metadata": {},
   "outputs": [],
   "source": [
    "def car(model,year) :\n",
    "    print(model,year) #positional argument"
   ]
  },
  {
   "cell_type": "code",
   "execution_count": 2,
   "metadata": {},
   "outputs": [
    {
     "name": "stdout",
     "output_type": "stream",
     "text": [
      "corolla 2019\n"
     ]
    }
   ],
   "source": [
    "car('corolla',2019)"
   ]
  },
  {
   "cell_type": "code",
   "execution_count": 3,
   "metadata": {},
   "outputs": [
    {
     "name": "stdout",
     "output_type": "stream",
     "text": [
      "toyota 2018\n"
     ]
    }
   ],
   "source": [
    "car(model = 'toyota',year = 2018)  # if arguments get interchange then wrong value will not store in any variable"
   ]
  },
  {
   "cell_type": "code",
   "execution_count": 4,
   "metadata": {},
   "outputs": [
    {
     "name": "stdout",
     "output_type": "stream",
     "text": [
      "honda 2020\n"
     ]
    }
   ],
   "source": [
    "car(year = 2020,model = 'honda')"
   ]
  },
  {
   "cell_type": "code",
   "execution_count": 8,
   "metadata": {},
   "outputs": [],
   "source": [
    "def name(fname,lname) :\n",
    "    print(f\"firstname = {fname} lastname = {lname}\")"
   ]
  },
  {
   "cell_type": "code",
   "execution_count": 9,
   "metadata": {},
   "outputs": [
    {
     "name": "stdout",
     "output_type": "stream",
     "text": [
      "firstname = sara lastname = bano\n"
     ]
    }
   ],
   "source": [
    "name(lname = 'bano',fname = 'sara') # argument sequence change but still get right answer"
   ]
  },
  {
   "cell_type": "code",
   "execution_count": 14,
   "metadata": {},
   "outputs": [],
   "source": [
    "def name(fname,middlename,lname) :\n",
    "    print(f\"firstname = {fname}  middle name = {middlename} lastname = {lname}\")"
   ]
  },
  {
   "cell_type": "code",
   "execution_count": 15,
   "metadata": {},
   "outputs": [
    {
     "ename": "SyntaxError",
     "evalue": "positional argument follows keyword argument (<ipython-input-15-3420e88ce0e6>, line 1)",
     "output_type": "error",
     "traceback": [
      "\u001b[1;36m  File \u001b[1;32m\"<ipython-input-15-3420e88ce0e6>\"\u001b[1;36m, line \u001b[1;32m1\u001b[0m\n\u001b[1;33m    name('John',middlename = 'walten','smith') # john and smith are positional argument\u001b[0m\n\u001b[1;37m                                     ^\u001b[0m\n\u001b[1;31mSyntaxError\u001b[0m\u001b[1;31m:\u001b[0m positional argument follows keyword argument\n"
     ]
    }
   ],
   "source": [
    "name('John',middlename = 'walten','smith') # john and smith are positional argument\n",
    "                                      # walten is keyword argument"
   ]
  },
  {
   "cell_type": "code",
   "execution_count": 16,
   "metadata": {},
   "outputs": [],
   "source": [
    "# means keyword argument should be at end as to avoid this error"
   ]
  },
  {
   "cell_type": "code",
   "execution_count": 17,
   "metadata": {},
   "outputs": [
    {
     "name": "stdout",
     "output_type": "stream",
     "text": [
      "firstname = john  middle name = walten lastname = smith\n"
     ]
    }
   ],
   "source": [
    "def name(fname,lname,middlename) : # put middlename at end\n",
    "    print(f\"firstname = {fname}  middle name = {middlename} lastname = {lname}\")\n",
    "name('john','smith',middlename ='walten') # get middle name to last of function"
   ]
  },
  {
   "cell_type": "code",
   "execution_count": 18,
   "metadata": {},
   "outputs": [],
   "source": [
    "#arbitary number of arguments\n",
    "# when no of arguments can be greater than no of parameters so take it as asteriks\n",
    "# or when no of arguments have to be hold by one parameter\n",
    "# and they be stored in form of tupples\n",
    "def pizza(size,flavour,*toppings):\n",
    "    print(size,flavour)\n",
    "    print(toppings)"
   ]
  },
  {
   "cell_type": "code",
   "execution_count": 19,
   "metadata": {},
   "outputs": [
    {
     "name": "stdout",
     "output_type": "stream",
     "text": [
      "large tikka\n",
      "('extra cheese',)\n"
     ]
    }
   ],
   "source": [
    "pizza('large','tikka','extra cheese')"
   ]
  },
  {
   "cell_type": "code",
   "execution_count": 20,
   "metadata": {},
   "outputs": [
    {
     "name": "stdout",
     "output_type": "stream",
     "text": [
      "large tikka\n",
      "('extra cheese', 'olives')\n"
     ]
    }
   ],
   "source": [
    "pizza('large','tikka','extra cheese','olives')"
   ]
  },
  {
   "cell_type": "code",
   "execution_count": 21,
   "metadata": {},
   "outputs": [
    {
     "name": "stdout",
     "output_type": "stream",
     "text": [
      "large tikka\n",
      "('extra cheese', 'olives', 'peppronii')\n"
     ]
    }
   ],
   "source": [
    "pizza('large','tikka','extra cheese','olives','peppronii')"
   ]
  },
  {
   "cell_type": "code",
   "execution_count": 22,
   "metadata": {},
   "outputs": [],
   "source": [
    "def car(make,model,**specs):\n",
    "    print(make,model)\n",
    "    print(specs)"
   ]
  },
  {
   "cell_type": "markdown",
   "metadata": {},
   "source": [
    "car('toyota','prius',transmission ='Automatic') # ** takes the keyword argument as dictionary                                        "
   ]
  },
  {
   "cell_type": "code",
   "execution_count": 26,
   "metadata": {},
   "outputs": [
    {
     "name": "stdout",
     "output_type": "stream",
     "text": [
      "toyota prius\n",
      "{'transmission': 'Automatic', 'gears': 2, 'color': 'red'}\n"
     ]
    }
   ],
   "source": [
    "car('toyota','prius',transmission ='Automatic',gears = 2,color = 'red')"
   ]
  },
  {
   "cell_type": "code",
   "execution_count": 34,
   "metadata": {},
   "outputs": [],
   "source": [
    "# function as variable\n",
    "def add(a,b) :\n",
    "    c = a+b\n",
    "    return c"
   ]
  },
  {
   "cell_type": "code",
   "execution_count": 35,
   "metadata": {},
   "outputs": [],
   "source": [
    "def sub(a,b) :\n",
    "    c = a-b\n",
    "    return c"
   ]
  },
  {
   "cell_type": "code",
   "execution_count": 37,
   "metadata": {},
   "outputs": [
    {
     "name": "stdout",
     "output_type": "stream",
     "text": [
      "10\n"
     ]
    }
   ],
   "source": [
    "result = add(2,4) + sub(7,3) # function are not adding but instead their returned values are adding\n",
    "print(result)"
   ]
  },
  {
   "cell_type": "markdown",
   "metadata": {},
   "source": [
    "# while loop"
   ]
  },
  {
   "cell_type": "code",
   "execution_count": 38,
   "metadata": {},
   "outputs": [
    {
     "name": "stdout",
     "output_type": "stream",
     "text": [
      "0\n",
      "1\n",
      "2\n",
      "3\n",
      "4\n",
      "5\n",
      "6\n",
      "7\n",
      "8\n",
      "9\n"
     ]
    }
   ],
   "source": [
    "a = 0\n",
    "while a<10 :\n",
    "    print(a)\n",
    "    a= a+1"
   ]
  },
  {
   "cell_type": "code",
   "execution_count": 40,
   "metadata": {},
   "outputs": [
    {
     "name": "stdout",
     "output_type": "stream",
     "text": [
      "enter toppingsa\n",
      "enter toppingsb\n",
      "enter toppingsc\n",
      "enter toppingsd\n",
      "enter toppingse\n",
      "['a', 'b', 'c', 'd', 'e']\n"
     ]
    }
   ],
   "source": [
    " # for loop iterates unless brek or continue not used\n",
    "topping = []\n",
    "for a in range(5):\n",
    "    toppings = input(\"enter toppings \")\n",
    "    topping.append(toppings)\n",
    "print(topping)"
   ]
  },
  {
   "cell_type": "code",
   "execution_count": 4,
   "metadata": {},
   "outputs": [
    {
     "name": "stdout",
     "output_type": "stream",
     "text": [
      "enter toppings qwe\n",
      "enter toppings qwe\n",
      "enter toppings q\n",
      "['qwe', 'qwe']\n"
     ]
    }
   ],
   "source": [
    "flag = True\n",
    "topping = []\n",
    "\n",
    "while flag :\n",
    "    toppings = input(\"enter toppings \")\n",
    "    if toppings == \"q\":\n",
    "        flag = False\n",
    "        break\n",
    "    topping.append(toppings)\n",
    "print(topping)        "
   ]
  },
  {
   "cell_type": "code",
   "execution_count": null,
   "metadata": {},
   "outputs": [],
   "source": [
    "available_flavours = [\"fajita\",\"tikka\",\"mexican\"]\n",
    "available_size = ['large','medium','small']\n",
    "available_toppings = ['olives','cheese','herbs']\n",
    "print(\"Pizza Order\")\n",
    "print()\n",
    "print()\n",
    "flag = True\n",
    "while flag :\n",
    "    size = input(\"enter pizza size\")\n",
    "    if  size not in available_size :\n",
    "        print(f\"{size} not available\")\n",
    "        continue\n",
    "    else :\n",
    "        break\n",
    "    \n",
    "        #size = input(\"please enter pizza size again\")"
   ]
  },
  {
   "cell_type": "code",
   "execution_count": null,
   "metadata": {},
   "outputs": [],
   "source": []
  }
 ],
 "metadata": {
  "kernelspec": {
   "display_name": "Python 3",
   "language": "python",
   "name": "python3"
  },
  "language_info": {
   "codemirror_mode": {
    "name": "ipython",
    "version": 3
   },
   "file_extension": ".py",
   "mimetype": "text/x-python",
   "name": "python",
   "nbconvert_exporter": "python",
   "pygments_lexer": "ipython3",
   "version": "3.7.3"
  }
 },
 "nbformat": 4,
 "nbformat_minor": 2
}
